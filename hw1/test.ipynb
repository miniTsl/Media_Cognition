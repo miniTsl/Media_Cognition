{
 "cells": [
  {
   "cell_type": "code",
   "execution_count": 1,
   "metadata": {},
   "outputs": [
    {
     "name": "stdout",
     "output_type": "stream",
     "text": [
      "tensor(-0.1791)\n",
      "tensor([0.9035])\n"
     ]
    }
   ],
   "source": [
    "# a = [[1,2],[3,4]]\n",
    "# a[1]\n",
    "import torch\n",
    "weights = torch.normal(0,1,(2,1))\n",
    "data =  torch.normal(0,1,(10,2))\n",
    "print(torch.mm(data,weights).mean())\n",
    "print(torch.rand(1))"
   ]
  },
  {
   "cell_type": "code",
   "execution_count": 5,
   "metadata": {},
   "outputs": [
    {
     "data": {
      "text/plain": [
       "tensor([[ 7, 10],\n",
       "        [12, 18]])"
      ]
     },
     "execution_count": 5,
     "metadata": {},
     "output_type": "execute_result"
    }
   ],
   "source": [
    "import torch\n",
    "# a = torch.tensor([1.1,2.],requires_grad=True)\n",
    "# b = torch.clamp(a,2)\n",
    "# b\n",
    "a = torch.tensor([[1,2],[3,4]])\n",
    "b = torch.tensor([[1,2],[3,3]])\n",
    "torch.mm(b,a)"
   ]
  },
  {
   "cell_type": "code",
   "execution_count": 2,
   "metadata": {},
   "outputs": [
    {
     "name": "stdout",
     "output_type": "stream",
     "text": [
      "tensor([[0.4925, 0.0414, 0.3014, 0.7962],\n",
      "        [0.6223, 0.8671, 0.5535, 0.6170],\n",
      "        [0.4589, 0.6550, 0.8416, 0.8485]])\n",
      "tensor([[0.9355, 0.6209, 0.3183, 0.2531],\n",
      "        [0.8520, 0.9030, 0.3602, 0.6283],\n",
      "        [0.0567, 0.0652, 0.2043, 0.8270]])\n"
     ]
    }
   ],
   "source": [
    "import torch\n",
    "print(torch.rand(3,4))\n",
    "print(torch.rand([3,4]))"
   ]
  }
 ],
 "metadata": {
  "interpreter": {
   "hash": "07efdcd4b820c98a756949507a4d29d7862823915ec7477944641bea022f4f62"
  },
  "kernelspec": {
   "display_name": "Python 3.8.8 ('base')",
   "language": "python",
   "name": "python3"
  },
  "language_info": {
   "codemirror_mode": {
    "name": "ipython",
    "version": 3
   },
   "file_extension": ".py",
   "mimetype": "text/x-python",
   "name": "python",
   "nbconvert_exporter": "python",
   "pygments_lexer": "ipython3",
   "version": "3.8.8"
  },
  "orig_nbformat": 4
 },
 "nbformat": 4,
 "nbformat_minor": 2
}
