{
 "cells": [
  {
   "cell_type": "code",
   "execution_count": 17,
   "metadata": {},
   "outputs": [
    {
     "name": "stdout",
     "output_type": "stream",
     "text": [
      "tensor([[0.1667, 0.3333, 0.5000],\n",
      "        [0.2143, 0.2857, 0.5000]])\n",
      "tensor([[0, 0, 0, 0, 0, 0, 0, 1]])\n",
      "3\n",
      "tensor([[-6, -5, -4],\n",
      "        [-4, -3,  0]])\n"
     ]
    }
   ],
   "source": [
    "import torch\n",
    "import torch.nn.functional as F\n",
    "a = torch.tensor([[1,2,3],[3,4,7]])\n",
    "partition = a.sum(dim=1, keepdim=True)\n",
    "print(a/partition)\n",
    "print(F.one_hot(torch.tensor([7])))\n",
    "print(a.size(1))\n",
    "print(a - torch.max(a))"
   ]
  }
 ],
 "metadata": {
  "interpreter": {
   "hash": "07efdcd4b820c98a756949507a4d29d7862823915ec7477944641bea022f4f62"
  },
  "kernelspec": {
   "display_name": "Python 3.8.8 ('base')",
   "language": "python",
   "name": "python3"
  },
  "language_info": {
   "name": "python",
   "version": "3.8.8"
  },
  "orig_nbformat": 4
 },
 "nbformat": 4,
 "nbformat_minor": 2
}
