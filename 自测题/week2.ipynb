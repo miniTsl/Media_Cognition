{
 "cells": [
  {
   "cell_type": "code",
   "execution_count": 2,
   "metadata": {},
   "outputs": [
    {
     "name": "stdout",
     "output_type": "stream",
     "text": [
      "tensor(7.)\n"
     ]
    }
   ],
   "source": [
    "import torch\n",
    "x = torch.tensor(2.,requires_grad=True)\n",
    "a = torch.add(x,1)\n",
    "b = torch.add(x,2)\n",
    "y = torch.mul(a,b)\n",
    "y.backward()\n",
    "print(x.grad)"
   ]
  },
  {
   "cell_type": "code",
   "execution_count": 10,
   "metadata": {},
   "outputs": [
    {
     "name": "stdout",
     "output_type": "stream",
     "text": [
      "True\n",
      "(tensor(1.),)\n"
     ]
    }
   ],
   "source": [
    "with torch.no_grad():\n",
    "    # Context-manager that disabled gradient calculation.\n",
    "    # In this mode, the <result of every computation> will have requires_grad=False, even when <the inputs have requires_grad=True>\n",
    "    x = torch.tensor(2.,requires_grad=True)\n",
    "    y = x**2\n",
    "    # print(y.grad) #None\n",
    "    print(x.requires_grad)  # x因为在定义时制定了可以求导，所以打印输出的还是True，但是y就不能求导了\n",
    "    print(torch.autograd.grad(x,x))\n",
    "    #print(torch.autograd.grad(y,y)) # element 0 of tensors does not require grad and does not have a grad_fn\n",
    "    # print(torch.autograd.grad(y,x)) # element 0 of tensors does not require grad and does not have a grad_fn\n",
    "    "
   ]
  },
  {
   "cell_type": "code",
   "execution_count": 11,
   "metadata": {},
   "outputs": [
    {
     "name": "stdout",
     "output_type": "stream",
     "text": [
      "torch.Size([3, 4, 3])\n"
     ]
    }
   ],
   "source": [
    "x = torch.rand(3,4,3)\n",
    "y = torch.rand(3,3,3)\n",
    "z = torch.bmm(x,y)\n",
    "print(z.shape)\n"
   ]
  },
  {
   "cell_type": "code",
   "execution_count": 16,
   "metadata": {},
   "outputs": [
    {
     "name": "stdout",
     "output_type": "stream",
     "text": [
      "torch.Size([3, 1, 4, 5])\n",
      "torch.Size([3, 1, 4, 5, 1])\n",
      "torch.Size([3, 4, 5])\n"
     ]
    }
   ],
   "source": [
    "a = torch.rand(3,4,5)\n",
    "b = a.unsqueeze(1)\n",
    "print(b.size())\n",
    "c = b.unsqueeze(-1)\n",
    "print(c.size())\n",
    "d = c.squeeze()\n",
    "print(d.size())"
   ]
  }
 ],
 "metadata": {
  "interpreter": {
   "hash": "07efdcd4b820c98a756949507a4d29d7862823915ec7477944641bea022f4f62"
  },
  "kernelspec": {
   "display_name": "Python 3.8.8 ('base')",
   "language": "python",
   "name": "python3"
  },
  "language_info": {
   "codemirror_mode": {
    "name": "ipython",
    "version": 3
   },
   "file_extension": ".py",
   "mimetype": "text/x-python",
   "name": "python",
   "nbconvert_exporter": "python",
   "pygments_lexer": "ipython3",
   "version": "3.8.8"
  },
  "orig_nbformat": 4
 },
 "nbformat": 4,
 "nbformat_minor": 2
}
