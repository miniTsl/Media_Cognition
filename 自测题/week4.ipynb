{
 "cells": [
  {
   "cell_type": "code",
   "execution_count": 15,
   "metadata": {},
   "outputs": [
    {
     "name": "stdout",
     "output_type": "stream",
     "text": [
      "torch.Size([2, 3, 4])\n",
      "torch.Size([2, 12])\n",
      "tensor([0.4238, 0.1981, 0.9137, 0.6963, 0.8653, 0.3131, 0.4661, 0.8854, 0.3112,\n",
      "        0.5992, 0.3463, 0.9842, 0.2785, 0.3105, 0.6744, 0.2233, 0.3443, 0.2009,\n",
      "        0.8844, 0.2849, 0.1794, 0.8120, 0.3604, 0.8214])\n"
     ]
    }
   ],
   "source": [
    "import torch\n",
    "a = torch.rand([2,3,1,4])\n",
    "print(torch.squeeze(a).shape)   # torch.squeeze()只删除维度中元素为1的维度\n",
    "print(torch.nn.Flatten().forward(a).shape)  # torch.nn.Flatten()负责从dim=1开始压缩数据，保留batch_size\n",
    "print(torch.flatten(a).shape)   # 从dim=0开始压缩数据，不保留batch_size"
   ]
  }
 ],
 "metadata": {
  "interpreter": {
   "hash": "07efdcd4b820c98a756949507a4d29d7862823915ec7477944641bea022f4f62"
  },
  "kernelspec": {
   "display_name": "Python 3.8.8 ('base')",
   "language": "python",
   "name": "python3"
  },
  "language_info": {
   "name": "python",
   "version": "3.8.8"
  },
  "orig_nbformat": 4
 },
 "nbformat": 4,
 "nbformat_minor": 2
}
