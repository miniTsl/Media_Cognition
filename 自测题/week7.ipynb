{
 "cells": [
  {
   "cell_type": "code",
   "execution_count": null,
   "metadata": {},
   "outputs": [],
   "source": [
    "import numpy as np\n",
    "\n",
    "a = np.array([[2,1],[1,2]])\n",
    "u, sigma, v = np.linalg.svd(a)\n",
    "rec_a = u.T@np.diag(sigma)@v    # @ 是矩阵乘法\n",
    "error = np.sum(np.abs(rec_a - a))\n",
    "print(error < 1e-12) "
   ]
  }
 ],
 "metadata": {
  "language_info": {
   "name": "python"
  },
  "orig_nbformat": 4
 },
 "nbformat": 4,
 "nbformat_minor": 2
}
